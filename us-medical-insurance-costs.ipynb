{
 "cells": [
  {
   "cell_type": "markdown",
   "metadata": {},
   "source": [
    "# U.S. Medical Insurance Costs"
   ]
  },
  {
   "cell_type": "markdown",
   "metadata": {},
   "source": [
    "### Goals\n",
    "1. \n",
    "2. \n",
    "3. "
   ]
  },
  {
   "cell_type": "code",
   "execution_count": 1,
   "metadata": {},
   "outputs": [],
   "source": [
    "# Import libraries\n",
    "import csv\n",
    "import pandas as pd\n",
    "import numpy as np"
   ]
  },
  {
   "cell_type": "code",
   "execution_count": 2,
   "metadata": {},
   "outputs": [
    {
     "name": "stdout",
     "output_type": "stream",
     "text": [
      "Total records: 1338\n",
      "First five records:\n",
      "Record 1: {'age': '19', 'sex': 'female', 'bmi': '27.9', 'children': '0', 'smoker': 'yes', 'region': 'southwest', 'charges': '16884.924'}\n",
      "Record 2: {'age': '18', 'sex': 'male', 'bmi': '33.77', 'children': '1', 'smoker': 'no', 'region': 'southeast', 'charges': '1725.5523'}\n",
      "Record 3: {'age': '28', 'sex': 'male', 'bmi': '33', 'children': '3', 'smoker': 'no', 'region': 'southeast', 'charges': '4449.462'}\n",
      "Record 4: {'age': '33', 'sex': 'male', 'bmi': '22.705', 'children': '0', 'smoker': 'no', 'region': 'northwest', 'charges': '21984.47061'}\n",
      "Record 5: {'age': '32', 'sex': 'male', 'bmi': '28.88', 'children': '0', 'smoker': 'no', 'region': 'northwest', 'charges': '3866.8552'}\n"
     ]
    }
   ],
   "source": [
    "# Import dataset\n",
    "patient_records = []\n",
    "with open(\"insurance.csv\", newline='') as insurance_csv:\n",
    "    insurance_dict = csv.DictReader(insurance_csv)\n",
    "\n",
    "    for row in insurance_dict:\n",
    "        patient_records.append(row)\n",
    "\n",
    "# Display the results\n",
    "print(f\"Total records: {len(patient_records)}\")\n",
    "print(f\"First five records:\")\n",
    "for i, record in enumerate(patient_records[:5]):\n",
    "    print(f\"Record {i+1}: {record}\")"
   ]
  },
  {
   "cell_type": "code",
   "execution_count": 3,
   "metadata": {},
   "outputs": [],
   "source": [
    "ages = []\n",
    "sexes = []\n",
    "bmis = []\n",
    "num_children = []\n",
    "smoker_status = []\n",
    "regions = []\n",
    "insurance_charges = []"
   ]
  },
  {
   "cell_type": "code",
   "execution_count": 4,
   "metadata": {},
   "outputs": [],
   "source": [
    "# The function below will allow us to create a list of each column category and analyze each category individually\n",
    "def load_list_data(lst, csv_file, col_name):\n",
    "    with open(csv_file, newline = '') as csv_loaded:\n",
    "        csv_dict = csv.DictReader(csv_loaded)\n",
    "\n",
    "        for row in csv_dict:\n",
    "            lst.append(row[col_name])\n",
    "        return lst"
   ]
  },
  {
   "cell_type": "code",
   "execution_count": 39,
   "metadata": {},
   "outputs": [
    {
     "name": "stdout",
     "output_type": "stream",
     "text": [
      "Data loaded successfully. Sample sizes: ages(2676), sexes(2676), bmis(2676), children(2676), smoker status(2676), geographic regions(2676), insurance charges(2676).\n"
     ]
    }
   ],
   "source": [
    "load_list_data(ages, \"insurance.csv\", \"age\")\n",
    "load_list_data(sexes, \"insurance.csv\", \"sex\")\n",
    "load_list_data(bmis, \"insurance.csv\", \"bmi\")\n",
    "load_list_data(num_children, \"insurance.csv\", \"children\")\n",
    "load_list_data(smoker_status, \"insurance.csv\", \"smoker\")\n",
    "load_list_data(regions, \"insurance.csv\", \"region\")\n",
    "load_list_data(insurance_charges, \"insurance.csv\", \"charges\")\n",
    "\n",
    "print(f\"Data loaded successfully. Sample sizes: ages({len(ages)}), sexes({len(sexes)}), bmis({len(bmis)}), children({len(num_children)}), smoker status({len(smoker_status)}), geographic regions({len(regions)}), insurance charges({len(insurance_charges)}).\")"
   ]
  },
  {
   "cell_type": "code",
   "execution_count": 36,
   "metadata": {},
   "outputs": [],
   "source": [
    "class PatientInfo:\n",
    "    # Define the attributes to be used in the following methods\n",
    "    def __init__(self, patient_ages, patient_sexes, patient_bmis, patient_children, patient_smoker, patient_region, patient_charges):\n",
    "        self.patient_ages = patient_ages\n",
    "        self.patient_sexes = patient_sexes\n",
    "        self.patient_bmis = patient_bmis\n",
    "        self.patient_children = patient_children\n",
    "        self.patient_smoker = patient_smoker\n",
    "        self.patient_region = patient_region\n",
    "        self.patient_charges = patient_charges\n",
    "    \n",
    "    # Method that calculates the age distribution (average, quartiles) of the patients within the dataset\n",
    "    def analyze_ages(self):\n",
    "        total_age = 0\n",
    "        patient_ages_integer = list(map(int, self.patient_ages))\n",
    "        for age in patient_ages_integer:\n",
    "            total_age += age\n",
    "        average_age = total_age / len(self.patient_ages)\n",
    "        print(f\"Average patient age: {round(average_age, 2)} years\")\n",
    "\n",
    "        q1_age = np.quantile(patient_ages_integer, 0.25)\n",
    "        q2_age = np.quantile(patient_ages_integer, 0.50)\n",
    "        q3_age = np.quantile(patient_ages_integer, 0.75)\n",
    "        print(f\"First quartile (25%): {round(q1_age, 2)} years\")\n",
    "        print(f\"Second quartile (50%): {round(q2_age, 2)} years\")\n",
    "        print(f\"Third quartile (75%): {round(q3_age, 2)} years\")\n",
    "    \n",
    "    # Method that calculates what percentage of patients are male/female\n",
    "    def analyze_sexes(self):\n",
    "        male = 0\n",
    "        female = 0\n",
    "        for patient in self.patient_sexes:\n",
    "            if patient.lower() == 'male':\n",
    "                male += 1\n",
    "            elif patient.lower() == 'female':\n",
    "                female += 1\n",
    "        male_percent = male / len(self.patient_sexes)\n",
    "        female_percent = female / len(self.patient_sexes)\n",
    "        print(f\"Total patients in dataset: {len(self.patient_sexes)}\")\n",
    "        print(f\"Number of male patients: {male}\")\n",
    "        print(f\"Percent male: {round(male_percent * 100, 2)}%\")\n",
    "        print(f\"Number of female patients: {female}\")\n",
    "        print(f\"Percent female: {round(female_percent * 100, 2)}%\")\n",
    "\n",
    "    # Method that analyzes the bmi distribution (average, quartiles) of the patients within the dataset\n",
    "    def analyze_bmis(self):\n",
    "        total_bmi = 0\n",
    "        patient_bmi_integer = list(map(float, self.patient_bmis))\n",
    "        for value in patient_bmi_integer:\n",
    "            total_bmi += value\n",
    "        average_bmi = total_bmi / len(self.patient_bmis)\n",
    "        print(f\"Average patient BMI: {round(average_bmi, 2)}\")\n",
    "        \n",
    "        q1_bmi = np.quantile(patient_bmi_integer, 0.25)\n",
    "        q2_bmi = np.quantile(patient_bmi_integer, 0.50)\n",
    "        q3_bmi = np.quantile(patient_bmi_integer, 0.75)\n",
    "        print(f\"First quartile (25%): {round(q1_bmi, 2)}\")\n",
    "        print(f\"Second quartile (50%): {round(q2_bmi, 2)}\")\n",
    "        print(f\"Third quartile (75%): {round(q3_bmi, 2)}\")\n",
    "\n",
    "    # Method that analyzes what percentage of patients have children, as well as the average number of children of each family\n",
    "    def analyze_children(self):\n",
    "        total_children = 0\n",
    "        families_w_children = []\n",
    "        total_children_families = 0\n",
    "        patient_num_children_integer = list(map(int, self.patient_children))\n",
    "        for patient in patient_num_children_integer:\n",
    "            total_children += patient\n",
    "            if patient >= 1:\n",
    "                families_w_children.append(patient)\n",
    "        for patient in families_w_children:\n",
    "            total_children_families += patient\n",
    "        percent_families_w_children = len(families_w_children) / len(patient_num_children_integer)\n",
    "        \n",
    "        print(f\"Number of patients with children: {len(families_w_children)} ({round((percent_families_w_children*100), 2)}%)\")\n",
    "\n",
    "    # Method that calculates what percentage of patients are smokers\n",
    "    def analyze_smokers(self):\n",
    "        total_smokers = 0\n",
    "        for patient in self.patient_smoker:\n",
    "            if patient == 'yes':\n",
    "                total_smokers += 1\n",
    "        percent_smoker = total_smokers / len(self.patient_smoker)\n",
    "        print(f\"Percent patient population that actively smokes: {round(percent_smoker * 100, 2)}%\")\n",
    "        \n",
    "    # Method that returns what unique geographic regions patients are from\n",
    "    def analyze_regions(self):\n",
    "        region_dict = {}\n",
    "        for reg in self.patient_region:\n",
    "            if reg in region_dict:\n",
    "                region_dict[reg] += 1\n",
    "            else:\n",
    "                region_dict[reg] = 1\n",
    "        return region_dict\n",
    "        print(\"Number of patients from each geographic region: \")\n",
    "        for region, count in region_dict.items():\n",
    "            print(f\"Region: {region}, Count: {count}\")\n",
    "    \n",
    "    # Method that analyzes the distribution of insurance charges (average, quartiles) of the patients within the dataset\n",
    "    def analyze_charges(self):\n",
    "        total_insurance_charges = 0\n",
    "        insurance_charges_integer = list(map(float, self.patient_charges))\n",
    "        for value in insurance_charges_integer:\n",
    "            total_insurance_charges += value\n",
    "        average_charge = total_insurance_charges / len(insurance_charges_integer)\n",
    "        print(f\"Average insurance cost across all patients: ${round(average_charge, 2)}\")\n",
    "\n",
    "        q1_charge = np.quantile(insurance_charges_integer, 0.25)\n",
    "        q2_charge = np.quantile(insurance_charges_integer, 0.50)\n",
    "        q3_charge = np.quantile(insurance_charges_integer, 0.75)\n",
    "        print(f\"First quartile (25%): ${round(q1_charge, 2)}\")\n",
    "        print(f\"Second quartile (50%): ${round(q2_charge, 2)}\")\n",
    "        print(f\"Third quartile (75%): ${round(q3_charge, 2)}\")\n",
    "\n",
    "    # Method that creates a dictionary with all patient information\n",
    "    def create_dictionary(self):\n",
    "        self.patients_dictionary = {}\n",
    "        self.patients_dictionary[\"age\"] = [int(age) for age in self.patient_ages]\n",
    "        self.patients_dictionary[\"sex\"] = self.patient_sexes\n",
    "        self.patients_dictionary[\"bmi\"] = self.patient_bmis\n",
    "        self.patients_dictionary[\"children\"] = self.patient_children\n",
    "        self.patients_dictionary[\"smoker\"] = self.patient_smoker\n",
    "        self.patients_dictionary[\"regions\"] = self.patient_region\n",
    "        self.patients_dictionary[\"charges\"] = self.patient_charges\n",
    "        return self.patients_dictionary"
   ]
  },
  {
   "cell_type": "code",
   "execution_count": 37,
   "metadata": {},
   "outputs": [],
   "source": [
    "patient_info = PatientInfo(ages, sexes, bmis, num_children, smoker_status, regions, insurance_charges)"
   ]
  },
  {
   "cell_type": "code",
   "execution_count": 51,
   "metadata": {},
   "outputs": [
    {
     "name": "stdout",
     "output_type": "stream",
     "text": [
      "Average patient age: 39.21 years\n",
      "First quartile (25%): 27.0 years\n",
      "Second quartile (50%): 39.0 years\n",
      "Third quartile (75%): 51.0 years\n"
     ]
    }
   ],
   "source": [
    "patient_info.analyze_ages()"
   ]
  },
  {
   "cell_type": "code",
   "execution_count": 38,
   "metadata": {},
   "outputs": [
    {
     "name": "stdout",
     "output_type": "stream",
     "text": [
      "Total patients in dataset: 1338\n",
      "Number of male patients: 676\n",
      "Percent male: 50.52%\n",
      "Number of female patients: 662\n",
      "Percent female: 49.48%\n"
     ]
    }
   ],
   "source": [
    "patient_info.analyze_sexes()"
   ]
  },
  {
   "cell_type": "code",
   "execution_count": 60,
   "metadata": {},
   "outputs": [
    {
     "name": "stdout",
     "output_type": "stream",
     "text": [
      "Average patient BMI: 30.66\n",
      "First quartile (25%): 26.3\n",
      "Second quartile (50%): 30.4\n",
      "Third quartile (75%): 34.69\n"
     ]
    }
   ],
   "source": [
    "patient_info.analyze_bmis()"
   ]
  },
  {
   "cell_type": "code",
   "execution_count": 38,
   "metadata": {},
   "outputs": [
    {
     "name": "stdout",
     "output_type": "stream",
     "text": [
      "Number of patients with children: 764 (57.1%)\n"
     ]
    }
   ],
   "source": [
    "patient_info.analyze_children()"
   ]
  },
  {
   "cell_type": "code",
   "execution_count": 23,
   "metadata": {},
   "outputs": [
    {
     "name": "stdout",
     "output_type": "stream",
     "text": [
      "Percent patient population that actively smokes: 20.48%\n"
     ]
    }
   ],
   "source": [
    "patient_info.analyze_smokers()"
   ]
  },
  {
   "cell_type": "code",
   "execution_count": 20,
   "metadata": {},
   "outputs": [
    {
     "data": {
      "text/plain": [
       "{'southwest': 325, 'southeast': 364, 'northwest': 325, 'northeast': 324}"
      ]
     },
     "execution_count": 20,
     "metadata": {},
     "output_type": "execute_result"
    }
   ],
   "source": [
    "patient_info.analyze_regions()"
   ]
  },
  {
   "cell_type": "code",
   "execution_count": 27,
   "metadata": {},
   "outputs": [
    {
     "name": "stdout",
     "output_type": "stream",
     "text": [
      "Average insurance cost across all patients: $13270.42\n",
      "First quartile (25%): $4740.29\n",
      "Second quartile (50%): $9382.03\n",
      "Third quartile (75%): $16639.91\n"
     ]
    }
   ],
   "source": [
    "patient_info.analyze_charges()"
   ]
  }
 ],
 "metadata": {
  "kernelspec": {
   "display_name": "base",
   "language": "python",
   "name": "python3"
  },
  "language_info": {
   "codemirror_mode": {
    "name": "ipython",
    "version": 3
   },
   "file_extension": ".py",
   "mimetype": "text/x-python",
   "name": "python",
   "nbconvert_exporter": "python",
   "pygments_lexer": "ipython3",
   "version": "3.12.7"
  }
 },
 "nbformat": 4,
 "nbformat_minor": 4
}
